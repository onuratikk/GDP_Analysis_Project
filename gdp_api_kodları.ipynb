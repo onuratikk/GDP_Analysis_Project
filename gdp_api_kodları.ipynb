{
 "cells": [
  {
   "cell_type": "code",
   "execution_count": 15,
   "id": "a82460db-9528-4914-a20a-b57d810fe534",
   "metadata": {},
   "outputs": [
    {
     "name": "stdout",
     "output_type": "stream",
     "text": [
      "GSYİH verileri başarıyla SQL'e kaydedildi ve CSV olarak dışa aktarıldı.\n"
     ]
    }
   ],
   "source": [
    "import requests\n",
    "import pandas as pd\n",
    "import sqlite3\n",
    "\n",
    "\n",
    "COUNTRIES = [\"TUR\", \"GBR\", \"USA\"]\n",
    "WORLD_BANK_URL_TEMPLATE = \"https://api.worldbank.org/v2/country/{}/indicator/NY.GDP.MKTP.CD?format=json&date=1990:2023\"\n",
    "\n",
    "\n",
    "def fetch_world_bank_data(country):\n",
    "    url = WORLD_BANK_URL_TEMPLATE.format(country)\n",
    "    response = requests.get(url)\n",
    "    if response.status_code == 200:\n",
    "        data = response.json()\n",
    "        return data[1]  \n",
    "    else:\n",
    "        print(f\"{country} için API isteği başarısız oldu.\")\n",
    "        return []\n",
    "\n",
    "\n",
    "df_list = []\n",
    "for country in COUNTRIES:\n",
    "    data = fetch_world_bank_data(country)\n",
    "    df_country = pd.DataFrame([{ \"country\": country, \"year\": item[\"date\"], \"gdp\": item[\"value\"] } \n",
    "                               for item in data if item[\"value\"] is not None])\n",
    "    df_list.append(df_country)\n",
    "\n",
    "df = pd.concat(df_list, ignore_index=True)\n",
    "\n",
    "\n",
    "conn = sqlite3.connect(\"world_bank_data.db\")\n",
    "cursor = conn.cursor()\n",
    "\n",
    "\n",
    "cursor.execute('''\n",
    "    CREATE TABLE IF NOT EXISTS gdp_data (\n",
    "        id INTEGER PRIMARY KEY AUTOINCREMENT,\n",
    "        country TEXT,\n",
    "        year INTEGER,\n",
    "        gdp REAL\n",
    "    )\n",
    "''')\n",
    "\n",
    "\n",
    "df.to_sql(\"gdp_data\", conn, if_exists=\"replace\", index=False)\n",
    "conn.commit()\n",
    "conn.close()\n",
    "\n",
    "\n",
    "df.to_csv(\"world_bank_gdp.csv\", index=False)\n",
    "print(\"GSYİH verileri başarıyla SQL'e kaydedildi ve CSV olarak dışa aktarıldı.\")\n"
   ]
  },
  {
   "cell_type": "code",
   "execution_count": 19,
   "id": "3fd887f5-8a8a-469b-bc02-d20f36cd4525",
   "metadata": {},
   "outputs": [
    {
     "name": "stdout",
     "output_type": "stream",
     "text": [
      "CSV verisi başarıyla SQLite veritabanına aktarıldı!\n"
     ]
    }
   ],
   "source": [
    "import pandas as pd\n",
    "import sqlite3\n",
    "\n",
    "\n",
    "df = pd.read_csv(\"world_bank_gdp.csv\")\n",
    "\n",
    "\n",
    "conn = sqlite3.connect(\"world_bank_data.db\")\n",
    "cursor = conn.cursor()\n",
    "\n",
    "\n",
    "cursor.execute('''\n",
    "    CREATE TABLE IF NOT EXISTS gdp_data (\n",
    "        id INTEGER PRIMARY KEY AUTOINCREMENT,\n",
    "        country TEXT,\n",
    "        year INTEGER,\n",
    "        gdp REAL\n",
    "    )\n",
    "''')\n",
    "\n",
    "\n",
    "df.to_sql(\"gdp_data\", conn, if_exists=\"replace\", index=False)\n",
    "\n",
    "\n",
    "conn.commit()\n",
    "conn.close()\n",
    "\n",
    "print(\"CSV verisi başarıyla SQLite veritabanına aktarıldı!\")\n"
   ]
  },
  {
   "cell_type": "code",
   "execution_count": 23,
   "id": "fcefa892-fcca-42d6-9e61-e62d555db485",
   "metadata": {},
   "outputs": [],
   "source": [
    "import sqlite3\n",
    "\n",
    "conn = sqlite3.connect(\"world_bank_data.db\")\n",
    "cursor = conn.cursor()\n",
    "\n",
    "\n",
    "cursor.execute(\"DROP TABLE IF EXISTS gdp_data\")\n",
    "\n",
    "\n",
    "cursor.execute('''\n",
    "    CREATE TABLE gdp_data (\n",
    "        id INTEGER PRIMARY KEY AUTOINCREMENT,\n",
    "        country TEXT,\n",
    "        year INTEGER,\n",
    "        gdp REAL\n",
    "    )\n",
    "''')\n",
    "\n",
    "conn.commit()\n",
    "conn.close()\n"
   ]
  },
  {
   "cell_type": "code",
   "execution_count": null,
   "id": "7fc12e65-1127-4cc3-988d-0b48d1264d1c",
   "metadata": {},
   "outputs": [],
   "source": []
  }
 ],
 "metadata": {
  "kernelspec": {
   "display_name": "Python 3 (ipykernel)",
   "language": "python",
   "name": "python3"
  },
  "language_info": {
   "codemirror_mode": {
    "name": "ipython",
    "version": 3
   },
   "file_extension": ".py",
   "mimetype": "text/x-python",
   "name": "python",
   "nbconvert_exporter": "python",
   "pygments_lexer": "ipython3",
   "version": "3.11.7"
  }
 },
 "nbformat": 4,
 "nbformat_minor": 5
}
